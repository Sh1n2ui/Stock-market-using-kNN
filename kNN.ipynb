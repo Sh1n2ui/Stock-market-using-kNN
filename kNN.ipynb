import numpy as np
import pandas as pd

import matplotlib.pyplot as plt

from sklearn.neighbors import KNeighborsClassifier
from sklearn.metrics import accuracy_score

from pandas_datareader import data as pdr
import yfinance as yf

from pandas.plotting import register_matplotlib_converters
register_matplotlib_converters()

tickers =["SPY"]
df = yf.download(tickers, period='5y', interval='1d')

df = df.dropna()
df = df[['Open', 'High', 'Low', 'Close']]
df.head()

df['Open-Close'] = df.Open - df.Close
df['High-Low'] = df.High - df.Low
df = df.dropna()
X = df[['Open-Close', 'High-Low']]
X.head()

Y = np.where(df['Close'].shift(-1) > df['Close'], 1, -1)

split_percent = 0.8
split = int(split_percent * len(df))

X_train = X[:split]
Y_train = Y[:split]

X_test = X[split:]
Y_test = Y[split:]

from sklearn.preprocessing import MinMaxScaler
scaler = MinMaxScaler()
scaler.fit(X_train)
X_train_s = scaler.transform(X_train)
X_test_s = scaler.transform(X_test)
print(X_train_s.shape)

from sklearn.decomposition import PCA
pca = PCA(n_components=0.98)
pca.fit(X_train)
X_train_s = pca.transform(X_train)
X_test_s = pca.transform(X_test)
print(X_train_s.shape)

knn = KNeighborsClassifier(n_neighbors = 20)

knn.fit(X_train, Y_train)

accuracy_train = accuracy_score(Y_train, knn.predict(X_train))
accuracy_test = accuracy_score(Y_test, knn.predict(X_test))

print('Train data Accuracy: %.2f' %(accuracy_train*100))
print('Train test Accuracy: %.2f' %(accuracy_test*100))

df['Predict_Signal'] = knn.predict(X)

df['SPY_returns'] = np.log(df['Close']/df['Close'].shift(1))
Cumulative_TSLA_returns = df[split:]['SPY_returns'].cumsum()*100

df['Startegy_returns'] = df['SPY_returns']* df['Predict_Signal'].shift(1)
Cumulative_Strategy_returns = df[split:]['Startegy_returns'].cumsum()*100

plt.figure(figsize=(10,5))
plt.plot(Cumulative_TSLA_returns, color='r', label = 'TSLA Returns')
plt.plot(Cumulative_Strategy_returns, color='g', label = 'Strategy Returns')
plt.legend()
plt.show()

Std = Cumulative_Strategy_returns.std()
Sharpe = (Cumulative_Strategy_returns - Cumulative_TSLA_returns) / Std
Sharpe = Sharpe.mean()
print('Sharpe ratio: %2f' %Sharpe)

from sklearn.metrics import confusion_matrix, ConfusionMatrixDisplay

predictions = knn.predict(X_test)
cm = confusion_matrix(Y_test, predictions, labels=knn.classes_)
disp = ConfusionMatrixDisplay(confusion_matrix=cm,display_labels=knn.classes_)
disp.plot()

plt.show()
